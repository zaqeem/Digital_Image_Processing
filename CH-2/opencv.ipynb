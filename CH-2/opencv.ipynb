{
 "cells": [
  {
   "cell_type": "code",
   "execution_count": 2,
   "id": "ec40badf",
   "metadata": {},
   "outputs": [
    {
     "name": "stdout",
     "output_type": "stream",
     "text": [
      "(1, 256) (256, 1)\n",
      "uint8\n"
     ]
    }
   ],
   "source": [
    "import numpy as np\n",
    "import cv2\n",
    "arr=np.arange(0,256).reshape(256,1)\n",
    "one=np.ones((1,256))\n",
    "print(one.shape,arr.shape)\n",
    "mul=arr*one\n",
    "mul=mul.astype('uint8')\n",
    "print(mul.dtype)\n",
    "cv2.imshow(\"my_image\",mul)\n",
    "cv2.waitKey(0)\n",
    "cv2.destroyAllWindows()"
   ]
  },
  {
   "cell_type": "markdown",
   "id": "40ea4418",
   "metadata": {},
   "source": [
    "# capturing video\n"
   ]
  },
  {
   "cell_type": "code",
   "execution_count": null,
   "id": "67180953",
   "metadata": {},
   "outputs": [],
   "source": [
    "import cv2\n",
    "\n",
    "# Open a connection to the default camera (0)\n",
    "cap = cv2.VideoCapture(0)\n",
    "\n",
    "while True:\n",
    "    # Read a frame from the camera\n",
    "    ret, frame = cap.read()\n",
    "\n",
    "    if not ret:\n",
    "        break\n",
    "\n",
    "    # Convert the frame to grayscale\n",
    "    gray = cv2.cvtColor(frame, cv2.COLOR_BGR2GRAY)\n",
    "\n",
    "    # Display the grayscale frame\n",
    "    cv2.imshow('frame', gray)\n",
    "\n",
    "    # Break the loop if the 'q' key is pressed\n",
    "    if cv2.waitKey(1) & 0xFF == ord('q'):\n",
    "        break\n",
    "\n",
    "# Release the camera\n",
    "cap.release()\n",
    "\n",
    "# Wait a moment and destroy all OpenCV windows\n",
    "cv2.waitKey(1)\n",
    "cv2.destroyAllWindows()\n"
   ]
  },
  {
   "cell_type": "markdown",
   "id": "9a6360e6",
   "metadata": {},
   "source": [
    "# save or write a video in memory\n"
   ]
  },
  {
   "cell_type": "code",
   "execution_count": null,
   "id": "a5711f2f",
   "metadata": {},
   "outputs": [],
   "source": [
    "cap=cv2.VideoCapture(0)\n",
    "fourcc=cv2.VideoWriter_fourcc(*\"XVID\")\n",
    "wid=int(cap.get(cv2.CAP_PROP_FRAME_WIDTH))\n",
    "hei=int(cap.get(cv2.CAP_PROP_FRAME_HEIGHT))                \n",
    "vid=cv2.VideoWriter('video.avi',fourcc,20.0,(wid,hei))\n",
    "while(True):\n",
    "    rest,frame=cap.read()\n",
    "    gray=cv2.cvtColor(frame,cv2.COLOR_BGR2GRAY)\n",
    "    if not rest:\n",
    "        break\n",
    "        \n",
    "    vid.write(gray)    \n",
    "    cv2.imshow('frame',gray)\n",
    "    \n",
    "    if cv2.waitKey(1) & 0xFF == ord('q'):\n",
    "        break\n",
    "   \n",
    "cap.release()\n",
    "vid.release()\n",
    "cv2.destroyAllWindows()"
   ]
  },
  {
   "cell_type": "code",
   "execution_count": 2,
   "id": "751d585d",
   "metadata": {},
   "outputs": [],
   "source": [
    "img=cv2.imread('Fig0222(a)(face).tif',0)\n",
    "img=cv2.line(img,(0,0),(150,150),(255,0,0),5)\n",
    "cv2.imshow('face',img)\n",
    "cv2.waitKey(0)\n",
    "cv2.destroyAllWindows()"
   ]
  },
  {
   "cell_type": "code",
   "execution_count": 4,
   "id": "3a399b78",
   "metadata": {},
   "outputs": [],
   "source": [
    "first=cv2.imread('Fig0222(a)(face).tif',0)\n",
    "second=first*first\n",
    "cv2.imshow('face',second)\n",
    "cv2.waitKey(0)\n",
    "cv2.destroyAllWindows()"
   ]
  },
  {
   "cell_type": "code",
   "execution_count": 6,
   "id": "ae0a2859",
   "metadata": {},
   "outputs": [],
   "source": [
    "\n",
    "low =cv2.imread(\"Fig0241(a)(einstein low contrast).tif\")\n",
    "heigh =cv2.imread(\"Fig0241(b)(einstein med contrast).tif\")\n",
    "low.shape\n",
    "heigh.shape\n",
    "result=low/heigh\n",
    "cv2.imshow(\"result\",result)\n",
    "cv2.imshow(\"img_low\",low)\n",
    "cv2.imshow(\"img_heigh\",heigh)\n",
    "cv2.waitKey(0)\n",
    "cv2.destroyAllWindows()"
   ]
  },
  {
   "cell_type": "code",
   "execution_count": 8,
   "id": "fd98f9d7",
   "metadata": {},
   "outputs": [],
   "source": [
    "noice=cv2.imread(\"Fig0240(a)(apollo 17_boulder_noisy).tif\",1)\n",
    "cv2.imshow(\"noice\",noice)\n",
    "cv2.waitKey(0)\n",
    "cv2.destroyAllWindows()"
   ]
  },
  {
   "cell_type": "markdown",
   "id": "71aa118d",
   "metadata": {},
   "source": [
    "# Resizing & Rescaling\n"
   ]
  },
  {
   "cell_type": "code",
   "execution_count": null,
   "id": "70eb4538",
   "metadata": {},
   "outputs": [],
   "source": [
    "cap=cv2.VideoCapture('E:/data/Navtec/Debut 2021-10-26 03_48_19.mp4')\n",
    "def frameScale(frame,scale=0.2):\n",
    "    wid=int(frame.shape[1]*scale)\n",
    "    \n",
    "    hei=int(frame.shape[0]*scale)\n",
    "    dim=(wid,hei)\n",
    "    return cv2.resize(frame,dim,interpolation=cv2.INTER_AREA)\n",
    "while True:\n",
    "    isTure,frame=cap.read()\n",
    "    rescale=frameScale(frame)\n",
    "    cv2.imshow('frame',frame)\n",
    "    cv2.imshow('df',rescale)\n",
    "    if cv2.waitKey(20) & 0xFF == ord('d'):\n",
    "        break;\n",
    "cap.release()\n",
    "cv2.destroyAllWindows()"
   ]
  },
  {
   "cell_type": "code",
   "execution_count": 13,
   "id": "a4ed030c",
   "metadata": {},
   "outputs": [],
   "source": [
    "cap=cv2.VideoCapture('E:/data/Navtec/Debut 2021-10-26 03_48_19.mp4')\n",
    "def frameResize(frame,scale=0.2):\n",
    "    wei=int(frame.shape[1]*scale)\n",
    "    hei=int(frame.shape[0]*scale)\n",
    "    dim=(wei,hei)\n",
    "    resize=cv2.resize(frame,dim)\n",
    "    return resize\n",
    "while(cap.isOpened()):\n",
    "    res,frame=cap.read()\n",
    " \n",
    "    if res==True:\n",
    "        gray=cv2.cvtColor(frame,cv2.COLOR_BGR2GRAY)\n",
    "        resized=frameResize(frame)\n",
    "        cv2.imshow('gray',gray)\n",
    "        cv2.imshow('sdfs',resized)\n",
    "        \n",
    "    if cv2.waitKey(20) & 0xFF == ord('d'):\n",
    "        break\n",
    "    \n",
    "cap.release()\n",
    "cv2.destroyAllWindows()"
   ]
  },
  {
   "cell_type": "code",
   "execution_count": 1,
   "id": "43a1b392",
   "metadata": {},
   "outputs": [
    {
     "ename": "NameError",
     "evalue": "name 'np' is not defined",
     "output_type": "error",
     "traceback": [
      "\u001b[1;31m---------------------------------------------------------------------------\u001b[0m",
      "\u001b[1;31mNameError\u001b[0m                                 Traceback (most recent call last)",
      "Cell \u001b[1;32mIn[1], line 16\u001b[0m\n\u001b[0;32m     14\u001b[0m          cv2\u001b[38;5;241m.\u001b[39mputText(img,strBGR,(x,y),font,\u001b[38;5;241m.5\u001b[39m,(\u001b[38;5;241m255\u001b[39m,\u001b[38;5;241m255\u001b[39m,\u001b[38;5;241m0\u001b[39m),\u001b[38;5;241m2\u001b[39m)\n\u001b[0;32m     15\u001b[0m          cv2\u001b[38;5;241m.\u001b[39mimshow(\u001b[38;5;124m'\u001b[39m\u001b[38;5;124mimage\u001b[39m\u001b[38;5;124m'\u001b[39m,img)\n\u001b[1;32m---> 16\u001b[0m img\u001b[38;5;241m=\u001b[39m\u001b[43mnp\u001b[49m\u001b[38;5;241m.\u001b[39mzeros((\u001b[38;5;241m512\u001b[39m,\u001b[38;5;241m512\u001b[39m,\u001b[38;5;241m3\u001b[39m),np\u001b[38;5;241m.\u001b[39muint8)\n\u001b[0;32m     17\u001b[0m cv2\u001b[38;5;241m.\u001b[39mimshow(\u001b[38;5;124m'\u001b[39m\u001b[38;5;124mimage\u001b[39m\u001b[38;5;124m'\u001b[39m,img)\n\u001b[0;32m     18\u001b[0m cv2\u001b[38;5;241m.\u001b[39msetMouseCallback(\u001b[38;5;124m'\u001b[39m\u001b[38;5;124mimage\u001b[39m\u001b[38;5;124m'\u001b[39m,click_event)\n",
      "\u001b[1;31mNameError\u001b[0m: name 'np' is not defined"
     ]
    }
   ],
   "source": [
    "def click_event(event,x,y,flags,param):\n",
    "    if event==cv2.EVENT_LBUTTONDOWN:\n",
    "         print(x,',',y)\n",
    "         font=cv2.FONT_HERSHEY_SIMPLEX\n",
    "         strXY=str(x)+','+str(y)\n",
    "         cv2.putText(img,strXY,(x,y),font,.5,(255,255,0),2)\n",
    "         cv2.imshow('image',img)\n",
    "    if event==cv2.EVENT_RBUTTONDOWN: \n",
    "         blue=[y,x,0]\n",
    "         green=[y,x,1]\n",
    "         red=[y,x,2]\n",
    "         font=cv2.FONT_HERSHEY_SIMPLEX\n",
    "         strBGR=str(blue)+','+str(green)+','+str(red)\n",
    "         cv2.putText(img,strBGR,(x,y),font,.5,(255,255,0),2)\n",
    "         cv2.imshow('image',img)\n",
    "img=np.zeros((512,512,3),np.uint8)\n",
    "cv2.imshow('image',img)\n",
    "cv2.setMouseCallback('image',click_event)\n",
    "cv2.waitKey(0)\n",
    "cv2.destroyAllWindows()\n"
   ]
  },
  {
   "cell_type": "markdown",
   "id": "2d130053",
   "metadata": {},
   "source": [
    "# connecting line through even"
   ]
  },
  {
   "cell_type": "code",
   "execution_count": 45,
   "id": "9ac4436f",
   "metadata": {},
   "outputs": [
    {
     "name": "stdout",
     "output_type": "stream",
     "text": [
      "88 , 88\n",
      "99 , 138\n"
     ]
    }
   ],
   "source": [
    "def clck_event(event,x,y,flags,param):\n",
    "    if event==cv2.EVENT_LBUTTONDOWN:\n",
    "        cv2.circle(img,(x,y),3,(0,0,255),-1)\n",
    "        point.append((x,y))\n",
    "        if len(points)>=2:\n",
    "            cv2.line(img,point[-1],point[-2],(255,0,0),5)\n",
    "        cv2.imshow('image',img)\n",
    "    \n",
    "img=np.zeros((512,512,3),np.uint8)\n",
    "points=[]\n",
    "cv2.imshow('image',img)\n",
    "cv2.setMouseCallback('image',click_event)\n",
    "cv2.waitKey(0)\n",
    "cv2.destroyAllWindows()\n"
   ]
  },
  {
   "cell_type": "markdown",
   "id": "f2f2be75",
   "metadata": {},
   "source": [
    "# Drawing shape and putting text"
   ]
  },
  {
   "cell_type": "code",
   "execution_count": 4,
   "id": "e8a90b83",
   "metadata": {},
   "outputs": [],
   "source": [
    "import numpy as np\n",
    "import cv2\n",
    "img=np.zeros((500,500,3),np.uint8)\n",
    "#cv2.imshow('image',img)\n",
    "#img[200:300,30:400]=0,255,0\n",
    "#cv2.imshow('image',img\n",
    "cv2.rectangle(img,(0,0),(200,250),(0,0,255),thickness=cv2.FILLED)\n",
    "#cv2.imshow('rec',img)\n",
    "cv2.circle(img,(200,250),40,(255,0,0),thickness=-1)\n",
    "cv2.imshow('Circle',img)\n",
    "cv2.line(img,(0,0),(200,250),(255,255,255),thickness=3)\n",
    "cv2.imshow('line',img)\n",
    "cv2.waitKey(0)\n",
    "cv2.destroyAllWindows()"
   ]
  },
  {
   "cell_type": "markdown",
   "id": "4b34c24c",
   "metadata": {},
   "source": [
    "# Bluring"
   ]
  },
  {
   "cell_type": "code",
   "execution_count": 5,
   "id": "6c73d1b8",
   "metadata": {},
   "outputs": [],
   "source": [
    "img_path = r\"C:\\Users\\Shahid\\Downloads\\Dubai_Marina_Skyline.jpg\"\n",
    "img=cv2.imread(img_path)\n",
    "cv2.imshow('ing',img)\n",
    "blur=cv2.GaussianBlur(img,(7,7),cv2.BORDER_DEFAULT)\n",
    "cv2.imshow('blue',blur)\n",
    "cv2.waitKey(0)\n",
    "cv2.destroyAllWindows()\n",
    "\n"
   ]
  },
  {
   "cell_type": "markdown",
   "id": "db3e7d81",
   "metadata": {},
   "source": [
    "# Edge cascode"
   ]
  },
  {
   "cell_type": "code",
   "execution_count": 6,
   "id": "730b5a33",
   "metadata": {},
   "outputs": [],
   "source": [
    "cv2.imshow('ing',img)\n",
    "canny=cv2.Canny(blur,125,175)\n",
    "cv2.imshow('canny',canny)\n",
    "cv2.waitKey(0)\n",
    "cv2.destroyAllWindows()\n"
   ]
  },
  {
   "cell_type": "markdown",
   "id": "38e9c61f",
   "metadata": {},
   "source": [
    "# Resizing\n"
   ]
  },
  {
   "cell_type": "code",
   "execution_count": 7,
   "id": "22f85c58",
   "metadata": {},
   "outputs": [],
   "source": [
    "resize=cv2.resize(img,(500,500),interpolation=cv2.INTER_CUBIC)"
   ]
  },
  {
   "cell_type": "markdown",
   "id": "73abb213",
   "metadata": {},
   "source": [
    "# croping"
   ]
  },
  {
   "cell_type": "code",
   "execution_count": 8,
   "id": "0f668fa5",
   "metadata": {},
   "outputs": [],
   "source": [
    "crop=img[50:200,200:400]\n",
    "cv2.imshow('img',img)\n",
    "cv2.imshow('crop',crop)\n",
    "cv2.waitKey(0)\n",
    "cv2.destroyAllWindows()"
   ]
  },
  {
   "cell_type": "markdown",
   "id": "623592d0",
   "metadata": {},
   "source": [
    "# image transform"
   ]
  },
  {
   "cell_type": "code",
   "execution_count": 9,
   "id": "58ed8886",
   "metadata": {},
   "outputs": [],
   "source": [
    "img_path = r\"C:\\Users\\Shahid\\Downloads\\Dubai_Marina_Skyline.jpg\"\n",
    "img=cv2.imread(img_path)\n",
    "cv2.imshow('img',img)\n",
    "def translate(img,x,y):\n",
    "    transMat=np.float32([[1,0,x],[0,1,y]])\n",
    "    dim=(img.shape[1],img.shape[0])\n",
    "    return cv2.warpAffine(img,transMat,dim)\n",
    "translated=translate(img,100,100)\n",
    "cv2.imshow('transformd',translated)\n",
    "cv2.waitKey(0)\n",
    "cv2.destroyAllWindows()"
   ]
  },
  {
   "cell_type": "markdown",
   "id": "e3ba0513",
   "metadata": {},
   "source": [
    "# rotation"
   ]
  },
  {
   "cell_type": "code",
   "execution_count": 10,
   "id": "a576a3a7",
   "metadata": {},
   "outputs": [],
   "source": [
    "img_path = r\"C:\\Users\\Shahid\\Downloads\\Dubai_Marina_Skyline.jpg\"\n",
    "img=cv2.imread(img_path)\n",
    "cv2.imshow('img',img)\n",
    "def rotation(img,angle,rotatePoint=None):\n",
    "    (weight,height)=img.shape[:2]\n",
    "    if rotatePoint is None:\n",
    "        rotatePoint=(weight//2,height//2)\n",
    "    rotateMat=cv2.getRotationMatrix2D(rotatePoint,angle,1.0)\n",
    "    dim=(weight,height)\n",
    "    return cv2.warpAffine(img,rotateMat,dim)\n",
    "\n",
    "rotate=rotation(img,-45)\n",
    "ro=rotation(rotate,-45)\n",
    "cv2.imshow('rotate',rotate)\n",
    "cv2.waitKey(0)\n",
    "cv2.destroyAllWindows()\n"
   ]
  },
  {
   "cell_type": "markdown",
   "id": "3944c1cd",
   "metadata": {},
   "source": [
    "# flipping"
   ]
  },
  {
   "cell_type": "code",
   "execution_count": 11,
   "id": "ea484d9d",
   "metadata": {},
   "outputs": [],
   "source": [
    "flip=cv2.flip(img,1)\n",
    "cv2.imshow('img',img)\n",
    "cv2.imshow('flip',flip)\n",
    "cv2.waitKey(0)\n",
    "cv2.destroyAllWindows()"
   ]
  },
  {
   "cell_type": "markdown",
   "id": "9e5ae811",
   "metadata": {},
   "source": [
    "# countour detection"
   ]
  },
  {
   "cell_type": "code",
   "execution_count": 12,
   "id": "2ed6e330",
   "metadata": {},
   "outputs": [
    {
     "name": "stdout",
     "output_type": "stream",
     "text": [
      "13856\n"
     ]
    }
   ],
   "source": [
    "#blur=cv2.GaussianBlur(img,(5,5),cv2.BORDER_DEFAULT)\n",
    "#canny=cv2.Canny(blur,125,275)\n",
    "#cv2.imshow('can',canny)\n",
    "gray = cv2.cvtColor(img, cv2.COLOR_BGR2GRAY)\n",
    "res,thresh=cv2.threshold(gray,125,255,cv2.THRESH_BINARY)\n",
    "countour,hierarchies=cv2.findContours(thresh,cv2.RETR_LIST,cv2.CHAIN_APPROX_SIMPLE)\n",
    "print(len(countour))\n",
    "cv2.imshow('threshold',thresh)\n",
    "cv2.waitKey(0)\n",
    "cv2.destroyAllWindows()"
   ]
  },
  {
   "cell_type": "code",
   "execution_count": 13,
   "id": "63ac77bd",
   "metadata": {},
   "outputs": [
    {
     "name": "stdout",
     "output_type": "stream",
     "text": [
      "1638\n"
     ]
    }
   ],
   "source": [
    "import cv2\n",
    "\n",
    "img = cv2.imread('Fig0241(c)(einstein high contrast).tif')  # Load your image here\n",
    "\n",
    "# Convert image to grayscale\n",
    "gray = cv2.cvtColor(img, cv2.COLOR_BGR2GRAY)\n",
    "\n",
    "# Thresholding\n",
    "res, thresh = cv2.threshold(gray, 125, 255, cv2.THRESH_BINARY)\n",
    "\n",
    "# Finding contours\n",
    "contours, hierarchies = cv2.findContours(thresh, cv2.RETR_LIST, cv2.CHAIN_APPROX_SIMPLE)\n",
    "\n",
    "print(len(contours))\n",
    "\n",
    "# Display the thresholded image\n",
    "cv2.imshow('Thresholded Image', thresh)\n",
    "\n",
    "# Uncomment the following lines if you want to display the results of other operations\n",
    "blur = cv2.GaussianBlur(img, (5, 5), cv2.BORDER_DEFAULT)\n",
    "cv2.imshow('Canny', canny)\n",
    "cv2.waitKey(0)\n",
    "cv2.destroyAllWindows()\n"
   ]
  }
 ],
 "metadata": {
  "kernelspec": {
   "display_name": "Python 3 (ipykernel)",
   "language": "python",
   "name": "python3"
  },
  "language_info": {
   "codemirror_mode": {
    "name": "ipython",
    "version": 3
   },
   "file_extension": ".py",
   "mimetype": "text/x-python",
   "name": "python",
   "nbconvert_exporter": "python",
   "pygments_lexer": "ipython3",
   "version": "3.11.5"
  }
 },
 "nbformat": 4,
 "nbformat_minor": 5
}
