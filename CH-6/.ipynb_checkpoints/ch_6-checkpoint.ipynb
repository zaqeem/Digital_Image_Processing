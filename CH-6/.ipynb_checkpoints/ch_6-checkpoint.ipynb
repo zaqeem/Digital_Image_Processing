{
 "cells": [
  {
   "cell_type": "code",
   "execution_count": 57,
   "id": "4647a87f",
   "metadata": {},
   "outputs": [],
   "source": [
    "import cv2\n",
    "import numpy as np\n",
    "rgb=[255,255,0]\n",
    "height,width=[500,600]\n",
    "img=np.full((height,width,3),rgb,np.uint8)\n",
    "cv2.imshow('img',img)\n",
    "cv2.waitKey(0)\n",
    "cv2.destroyAllWindows()"
   ]
  },
  {
   "cell_type": "code",
   "execution_count": 87,
   "id": "425a9499",
   "metadata": {},
   "outputs": [],
   "source": [
    "import cv2\n",
    "import numpy as np\n",
    "rgb=np.zeros((256,256,3),dtype=np.uint8)\n",
    "for i in range(rgb.shape[0]):\n",
    "    for j in range(rgb.shape[1]):\n",
    "        rgb[i,j,0]=255\n",
    "        rgb[i,j,1]=i\n",
    "        rgb[i,j,2]=j\n",
    "cv2.imshow('bgr',rgb)\n",
    "for i in range(rgb.shape[0]):\n",
    "    for j in range(rgb.shape[1]):\n",
    "        rgb[i,j,0]=i\n",
    "        rgb[i,j,1]=255\n",
    "        rgb[i,j,2]=j\n",
    "cv2.imshow('gbr',rgb)\n",
    "for i in range(rgb.shape[0]):\n",
    "    for j in range(rgb.shape[1]):\n",
    "        rgb[i,j,0]=i\n",
    "        rgb[i,j,1]=j\n",
    "        rgb[i,j,2]=255\n",
    "cv2.imshow('rgb',rgb)\n",
    "cv2.waitKey(0)\n",
    "cv2.destroyAllWindows()"
   ]
  },
  {
   "cell_type": "code",
   "execution_count": 88,
   "id": "6076ca5a",
   "metadata": {},
   "outputs": [],
   "source": [
    "import numpy as np\n",
    "import cv2\n",
    "#RGB color space\n",
    "rgb_color_space1 = np.zeros((1,256,3),dtype=np.uint8)\n",
    "rgb_color_space2 = np.zeros((256,1,3),dtype=np.uint8)\n",
    "rgb_color_space = rgb_color_space1 * rgb_color_space2\n",
    "#Read color combination\n",
    "for i in range(rgb_color_space.shape[0]):\n",
    "    for a in range(rgb_color_space.shape[1]):\n",
    "        rgb_color_space[i,a,0] = a\n",
    "        rgb_color_space[i,a,1] = i\n",
    "        rgb_color_space[i,a,2] = 255\n",
    "cv2.imshow(\"red_color_rgb_color_space\",rgb_color_space)\n",
    "#green color combination\n",
    "for i in range(rgb_color_space.shape[0]):\n",
    "    for a in range(rgb_color_space.shape[1]):\n",
    "        rgb_color_space[i,a,0] = i\n",
    "        rgb_color_space[i,a,1] = 255\n",
    "        rgb_color_space[i,a,2] = a\n",
    "cv2.imshow(\"green_color_rgb_color_space\",rgb_color_space)\n",
    "#Blue color combination\n",
    "for i in range(rgb_color_space.shape[0]):\n",
    "    for a in range(rgb_color_space.shape[1]):\n",
    "        rgb_color_space[i,a,0] = 255\n",
    "        rgb_color_space[i,a,1] = i\n",
    "        rgb_color_space[i,a,2] = a\n",
    "cv2.imshow(\"blue_color_rgb_color_space\",rgb_color_space)\n",
    "cv2.waitKey(0)\n",
    "cv2.destroyAllWindows()"
   ]
  },
  {
   "cell_type": "code",
   "execution_count": null,
   "id": "45dafbda",
   "metadata": {},
   "outputs": [],
   "source": []
  },
  {
   "cell_type": "code",
   "execution_count": null,
   "id": "43097a35",
   "metadata": {},
   "outputs": [],
   "source": []
  }
 ],
 "metadata": {
  "kernelspec": {
   "display_name": "Python 3 (ipykernel)",
   "language": "python",
   "name": "python3"
  },
  "language_info": {
   "codemirror_mode": {
    "name": "ipython",
    "version": 3
   },
   "file_extension": ".py",
   "mimetype": "text/x-python",
   "name": "python",
   "nbconvert_exporter": "python",
   "pygments_lexer": "ipython3",
   "version": "3.10.9"
  }
 },
 "nbformat": 4,
 "nbformat_minor": 5
}
